{
 "cells": [
  {
   "cell_type": "markdown",
   "metadata": {},
   "source": [
    "# Explora aquí\n",
    "\n",
    "Se recomienda utilizar este cuaderno con fines de exploración.\n",
    "\n",
    "Por ejemplo:\n",
    "\n",
    "1. Puede importar el CSV generado por Python a su computadora portátil y explorarlo.\n",
    "2. Puede conectarse a su base de datos usando `pandas.read_sql` desde este cuaderno y explorarla."
   ]
  },
  {
   "cell_type": "code",
   "execution_count": 1,
   "metadata": {},
   "outputs": [
    {
     "data": {
      "text/plain": [
       "False"
      ]
     },
     "execution_count": 1,
     "metadata": {},
     "output_type": "execute_result"
    }
   ],
   "source": [
    "import os\n",
    "from sqlalchemy import create_engine\n",
    "from sqlalchemy.exc import SQLAlchemyError, OperationalError\n",
    "import pandas as pd\n",
    "from dotenv import load_dotenv\n",
    "\n",
    "# load the .env file variables\n",
    "load_dotenv()\n"
   ]
  },
  {
   "cell_type": "code",
   "execution_count": 2,
   "metadata": {},
   "outputs": [],
   "source": [
    "# 1) Connect to the database here using the SQLAlchemy's create_engine function\n",
    "connection_string = f\"postgresql://{os.getenv('DB_USER')}:{os.getenv('DB_PASSWORD')}@{os.getenv('DB_HOST')}/{os.getenv('DB_NAME')}\"\n",
    "engine = create_engine(connection_string)\n",
    "\n",
    "# 2) Execute the SQL sentences to create your tables using the SQLAlchemy's execute function\n",
    "# 3) Execute the SQL sentences to insert your data using the SQLAlchemy's execute function"
   ]
  },
  {
   "cell_type": "code",
   "execution_count": 3,
   "metadata": {},
   "outputs": [
    {
     "name": "stdout",
     "output_type": "stream",
     "text": [
      "An unexpected error occurred while reading data: (psycopg2.OperationalError) could not translate host name \"None\" to address: nodename nor servname provided, or not known\n",
      "\n",
      "(Background on this error at: https://sqlalche.me/e/20/e3q8)\n",
      "An unexpected error occurred while reading data: (psycopg2.OperationalError) could not translate host name \"None\" to address: nodename nor servname provided, or not known\n",
      "\n",
      "(Background on this error at: https://sqlalche.me/e/20/e3q8)\n",
      "An unexpected error occurred while reading data: (psycopg2.OperationalError) could not translate host name \"None\" to address: nodename nor servname provided, or not known\n",
      "\n",
      "(Background on this error at: https://sqlalche.me/e/20/e3q8)\n"
     ]
    }
   ],
   "source": [
    "def execute_sql(engine, filepath):\n",
    "    try:\n",
    "        with engine.connect() as connection:\n",
    "            with open(filepath, 'r') as file:\n",
    "                sql_script = file.read()\n",
    "                connection.execute(sql_script)\n",
    "    except Exception as e:\n",
    "        print(f\"An unexpected error occurred while reading data: {e}\")\n",
    "\n",
    "create_script = './sql/create.sql'\n",
    "insert_script = './sql/insert.sql'\n",
    "drop_script = './sql/drop.sql'\n",
    "\n",
    "\n",
    "try:\n",
    "    execute_sql(engine, create_script)\n",
    "    execute_sql(engine, insert_script)\n",
    "except Exception as e:\n",
    "    print(f\"An unexpected error occurred: {e}\")\n",
    "    execute_sql(engine, drop_script)\n",
    "\n",
    "# 4) Use pandas to print one of the tables as dataframes using read_sql function\n",
    "try:\n",
    "    df = pd.read_sql(\"SELECT * FROM books\", con=engine)\n",
    "    print(df.head())\n",
    "except Exception as e:\n",
    "    print(f\"An unexpected error occurred while reading data: {e}\")"
   ]
  }
 ],
 "metadata": {
  "kernelspec": {
   "display_name": "Python 3.8.13 64-bit ('3.8.13')",
   "language": "python",
   "name": "python3"
  },
  "language_info": {
   "codemirror_mode": {
    "name": "ipython",
    "version": 3
   },
   "file_extension": ".py",
   "mimetype": "text/x-python",
   "name": "python",
   "nbconvert_exporter": "python",
   "pygments_lexer": "ipython3",
   "version": "3.12.4"
  },
  "orig_nbformat": 4,
  "vscode": {
   "interpreter": {
    "hash": "110cc1dee26208153f2972f08a2ad52b6a56238dc66d48e87fb757ef2996db56"
   }
  }
 },
 "nbformat": 4,
 "nbformat_minor": 2
}
